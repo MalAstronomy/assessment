{
 "cells": [
  {
   "cell_type": "code",
   "execution_count": 1,
   "metadata": {},
   "outputs": [],
   "source": [
    "# Global imports\n",
    "import sys, os\n",
    "import re\n",
    "import torch\n",
    "import torch.nn as nn\n",
    "import torch.nn.functional as F\n",
    "import torch.optim as optim\n",
    "from torchvision import transforms\n",
    "from collections import Counter, OrderedDict\n",
    "\n",
    "%matplotlib inline \n",
    "#%matplotlib widget\n",
    "\n",
    "import matplotlib.pyplot as plt\n",
    "from matplotlib.colors import PowerNorm\n",
    "from mpl_toolkits.axes_grid1 import make_axes_locatable\n",
    "#plt.style.use(['dark_background'])\n",
    "\n",
    "import numpy as np\n",
    "import json\n",
    "import collections\n",
    "from scipy import stats\n",
    "import random\n",
    "import math\n",
    "from datetime import datetime\n",
    "import csv\n",
    "\n",
    "# Local import\n",
    "sys.path.insert(0, '../training/methods/')\n",
    "# Import the neural network architectures:\n",
    "from MLP import Net as MLP\n",
    "from CNN import Net as CNN\n",
    "\n",
    "sys.path.insert(0, '../training/src/')\n",
    "from dataset import spectrum_dataset, splitDataLoader, ToTensor, Normalize"
   ]
  },
  {
   "cell_type": "code",
   "execution_count": 2,
   "metadata": {},
   "outputs": [
    {
     "data": {
      "text/plain": [
       "'/home/malavika/Documents/Research/assessment/evaluation'"
      ]
     },
     "execution_count": 2,
     "metadata": {},
     "output_type": "execute_result"
    }
   ],
   "source": [
    "pwd"
   ]
  },
  {
   "cell_type": "markdown",
   "metadata": {},
   "source": [
    "# User-defined parameters"
   ]
  },
  {
   "cell_type": "code",
   "execution_count": 3,
   "metadata": {},
   "outputs": [],
   "source": [
    "working_dir = \"/home/malavika/Documents/Research/assessment/\"\n",
    "path_to_models = working_dir+'models/'\n",
    "path_to_datasets = working_dir+\"datasets/\"\n",
    "\n",
    "\n",
    "dl_arch = 'mlp'\n",
    "nb_layer = 2\n",
    "train_val_dataset_size = 10000\n",
    "optimizer_name =  \"Adam\" \n",
    "batch_size = 32 \n",
    "learning_rate = '1e-4' \n",
    "nb_epoch = 100\n",
    "metric = 'mse'\n",
    "split_train = '90'\n",
    "\n",
    "test_dataset_size = 90"
   ]
  },
  {
   "cell_type": "code",
   "execution_count": 4,
   "metadata": {},
   "outputs": [
    {
     "data": {
      "text/plain": [
       "'model_10000spectrum_mlp_bs32_lr1e-4_100ep_optAdam_split90_mse'"
      ]
     },
     "execution_count": 4,
     "metadata": {},
     "output_type": "execute_result"
    }
   ],
   "source": [
    "model_file_name = 'model_'+str(train_val_dataset_size)+'spectrum_'+dl_arch+'_bs'+str(batch_size)+'_lr'+\\\n",
    "    str(learning_rate)+'_'+str(nb_epoch)+'ep_opt'+str(optimizer_name)+'_split'+split_train+'_'+metric\n",
    "model_file_name "
   ]
  },
  {
   "cell_type": "markdown",
   "metadata": {},
   "source": [
    "# Display the training and validation losses"
   ]
  },
  {
   "cell_type": "markdown",
   "metadata": {},
   "source": [
    "## Read the train/val losses"
   ]
  },
  {
   "cell_type": "code",
   "execution_count": 5,
   "metadata": {},
   "outputs": [],
   "source": [
    "# if dl_arch == 'mlp':\n",
    "#     layer_str = '_2hl_'\n",
    "# elif dl_arch == 'cnn':\n",
    "#     layer_str = '_3cv_'\n",
    "# else:\n",
    "#     raise ValueError(\"the model name specified is not valid\")\n",
    "\n",
    "model_name = 'model_'+str(train_val_dataset_size)+'spectrum_'+dl_arch+'_bs'+str(batch_size)+\\\n",
    "'_lr'+str(learning_rate)+'_'+str(nb_epoch)+'ep_opt'+str(optimizer_name)+'_split'+split_train+'_'+metric\n",
    "\n",
    "metrics_file = '../models/'+model_name+'/metrics.json'\n",
    "\n",
    "with open(metrics_file) as json_file:\n",
    "    data = json.load(json_file)\n",
    "    \n",
    "#model_10000spectrum_mlp_bs32_lr1e-4_100ep_optAdam_split90_mse"
   ]
  },
  {
   "cell_type": "code",
   "execution_count": 6,
   "metadata": {},
   "outputs": [],
   "source": [
    "## reading from the csv file saved from the terminal\n",
    "\n",
    "# c= path_to_models+model_name\n",
    "# t=[]\n",
    "# v=[]\n",
    "\n",
    "# with open(c+'/logs_terminal.txt', newline='') as csvfile:\n",
    "#     spamreader = csv.reader(csvfile, delimiter=' ', quotechar='|')\n",
    "#     for i, row in enumerate(spamreader):\n",
    "#         if (i%4) == 0:\n",
    "#             t.append(float(row[3]))\n",
    "#         if (i-1)%4 ==0 :\n",
    "#             v.append(float(row[3]))\n",
    "        "
   ]
  },
  {
   "cell_type": "code",
   "execution_count": null,
   "metadata": {},
   "outputs": [],
   "source": []
  },
  {
   "cell_type": "markdown",
   "metadata": {},
   "source": [
    "## Plot the losses"
   ]
  },
  {
   "cell_type": "code",
   "execution_count": 7,
   "metadata": {},
   "outputs": [
    {
     "data": {
      "image/png": "[encoded data removed]",
      "text/plain": [
       "<Figure size 504x360 with 1 Axes>"
      ]
     },
     "metadata": {
      "needs_background": "light"
     },
     "output_type": "display_data"
    }
   ],
   "source": [
    "fig = plt.figure(1, figsize=(7,5))\n",
    "plt.plot(data['train_loss'], label='training') # t\n",
    "plt.plot(data['val_loss'], label='validation') # v\n",
    "plt.xlabel('epoch')\n",
    "plt.ylabel('loss')\n",
    "plt.legend(loc=\"upper right\")\n",
    "plt.grid(linewidth=0.4)"
   ]
  },
  {
   "cell_type": "code",
   "execution_count": 8,
   "metadata": {},
   "outputs": [
    {
     "name": "stdout",
     "output_type": "stream",
     "text": [
      "0.0005579843764814238\n",
      "4.951480435432019e-09\n"
     ]
    }
   ],
   "source": [
    "print(np.min(data['train_loss']))   # t\n",
    "print(np.min(data['val_loss']))   #  v"
   ]
  },
  {
   "cell_type": "markdown",
   "metadata": {},
   "source": [
    "# Load the model"
   ]
  },
  {
   "cell_type": "code",
   "execution_count": 10,
   "metadata": {},
   "outputs": [
    {
     "name": "stdout",
     "output_type": "stream",
     "text": [
      "Model file name: /home/malavika/Documents/Research/assessment/models/model_10000spectrum_mlp_bs32_lr1e-4_100ep_optAdam_split90_mse/model.pth\n",
      "\n"
     ]
    }
   ],
   "source": [
    "# Load model architecture:\n",
    "\n",
    "# if dl_arch == 'mlp':\n",
    "#     model = MLP(375, 2)\n",
    "#     layer_str = '_2hl_'\n",
    "# elif dl_arch == 'cnn':\n",
    "#     model = CNN(1, 2)\n",
    "#     layer_str = '_3cv_'\n",
    "# else:\n",
    "#     raise ValueError(\"the model name specified is not valid\")\n",
    "\n",
    "model_file = path_to_models+'model_'+str(train_val_dataset_size)+'spectrum_'+dl_arch+'_bs'+str(batch_size)+'_lr'+\\\n",
    "    str(learning_rate)+'_'+str(nb_epoch)+'ep_opt'+str(optimizer_name)+'_split'+split_train+'_'+metric+'/model.pth'\n",
    "\n",
    "assert os.path.isfile(model_file), \"{} does not exist\".format(model_file)\n",
    "print(\"Model file name: {}\\n\".format(model_file))\n",
    "\n",
    "state_dict = torch.load(model_file, map_location='cpu')\n",
    "\n",
    "new_state_dict = OrderedDict()\n",
    "\n",
    "try:\n",
    "    model.load_state_dict(state_dict)\n",
    "except RuntimeError as e:\n",
    "    print('Ignoring \"' + str(e) + '\"')\n",
    "\n",
    "# model.load_state_dict(state_dict)"
   ]
  },
  {
   "cell_type": "markdown",
   "metadata": {},
   "source": [
    "# Create the dataset object"
   ]
  },
  {
   "cell_type": "markdown",
   "metadata": {},
   "source": [
    "We apply the same transformations to the test dataset than to the training/validation set"
   ]
  },
  {
   "cell_type": "code",
   "execution_count": 19,
   "metadata": {},
   "outputs": [
    {
     "name": "stdout",
     "output_type": "stream",
     "text": [
      "Test dataset filename: /home/malavika/Documents/Research/assessment/datasets/4params_test_mse.h5\n"
     ]
    }
   ],
   "source": [
    "# Define name of the hdf5 file containing the test data:\n",
    "test_file = path_to_datasets+\"4params_test_mse.h5\"\n",
    "\n",
    "assert os.path.isfile(test_file), \"{} does not exist\".format(test_file)\n",
    "print(\"Test dataset filename: {}\".format(test_file))  \n",
    "\n",
    "transfo = transforms.Compose([Normalize(), ToTensor()])\n",
    "\n",
    "# Create the dataset object:xc\n",
    "test_dataset = spectrum_dataset(path_to_file = test_file, \n",
    "                          size = test_dataset_size,\n",
    "                          transform = transfo)"
   ]
  },
  {
   "cell_type": "markdown",
   "metadata": {},
   "source": [
    "# Perform predictions"
   ]
  },
  {
   "cell_type": "code",
   "execution_count": 20,
   "metadata": {},
   "outputs": [],
   "source": [
    "prediction_list = []\n",
    "ratio_list = []\n",
    "rmse_list = []\n",
    "for id in range(test_dataset_size):\n",
    "    \n",
    "    sample = test_dataset[id]\n",
    "\n",
    "    ratio = sample['target'].numpy()\n",
    "    density = sample['input'].unsqueeze(0)\n",
    "\n",
    "    prediction = model(density).detach().numpy()[0]\n",
    "    \n",
    "    prediction_list.append(prediction)\n",
    "    ratio_list.append(ratio)"
   ]
  },
  {
   "cell_type": "code",
   "execution_count": 21,
   "metadata": {},
   "outputs": [
    {
     "name": "stdout",
     "output_type": "stream",
     "text": [
      "id=0\n",
      "[1.0059783 0.       ]\n",
      "[1. 0.]\n",
      "\n",
      "id=1\n",
      "[0.97400296 0.        ]\n",
      "[1. 0.]\n",
      "\n",
      "id=2\n",
      "[1.0127875 0.       ]\n",
      "[1. 0.]\n",
      "\n",
      "id=3\n",
      "[0.92331666 0.        ]\n",
      "[1. 0.]\n",
      "\n",
      "id=4\n",
      "[0.9898803 0.       ]\n",
      "[1. 0.]\n",
      "\n",
      "id=5\n",
      "[0.95512927 0.        ]\n",
      "[1. 0.]\n",
      "\n",
      "id=6\n",
      "[1.048989 0.      ]\n",
      "[1. 0.]\n",
      "\n",
      "id=7\n",
      "[1.0336034 0.       ]\n",
      "[1. 0.]\n",
      "\n",
      "id=8\n",
      "[0.9951569 0.       ]\n",
      "[1. 0.]\n",
      "\n",
      "id=9\n",
      "[0.97468615 0.        ]\n",
      "[1. 0.]\n",
      "\n",
      "id=10\n",
      "[1.0027568 0.       ]\n",
      "[1. 0.]\n",
      "\n",
      "id=11\n",
      "[1.0207205 0.       ]\n",
      "[1. 0.]\n",
      "\n",
      "id=12\n",
      "[1.0362387 0.       ]\n",
      "[1. 0.]\n",
      "\n",
      "id=13\n",
      "[0.96160024 0.        ]\n",
      "[1. 0.]\n",
      "\n",
      "id=14\n",
      "[1.0288702 0.       ]\n",
      "[1. 0.]\n",
      "\n",
      "id=15\n",
      "[1.0430415 0.       ]\n",
      "[1. 0.]\n",
      "\n",
      "id=16\n",
      "[1.0218947 0.       ]\n",
      "[1. 0.]\n",
      "\n",
      "id=17\n",
      "[1.0076783 0.       ]\n",
      "[1. 0.]\n",
      "\n",
      "id=18\n",
      "[0.9635183 0.       ]\n",
      "[1. 0.]\n",
      "\n",
      "id=19\n",
      "[0.9903748 0.       ]\n",
      "[1. 0.]\n",
      "\n",
      "id=20\n",
      "[1.0271115 0.       ]\n",
      "[1. 0.]\n",
      "\n",
      "id=21\n",
      "[0.95400476 0.        ]\n",
      "[1. 0.]\n",
      "\n",
      "id=22\n",
      "[0.99182546 0.        ]\n",
      "[1. 0.]\n",
      "\n",
      "id=23\n",
      "[1.0064961 0.       ]\n",
      "[1. 0.]\n",
      "\n",
      "id=24\n",
      "[0.9906461 0.       ]\n",
      "[1. 0.]\n",
      "\n",
      "id=25\n",
      "[0.9840633 0.       ]\n",
      "[1. 0.]\n",
      "\n",
      "id=26\n",
      "[0.97808635 0.        ]\n",
      "[1. 0.]\n",
      "\n",
      "id=27\n",
      "[0.9728166 0.       ]\n",
      "[1. 0.]\n",
      "\n",
      "id=28\n",
      "[0.927047 0.      ]\n",
      "[1. 0.]\n",
      "\n",
      "id=29\n",
      "[1.0270021 0.       ]\n",
      "[1. 0.]\n",
      "\n",
      "id=30\n",
      "[1.0052752 0.       ]\n",
      "[1. 0.]\n",
      "\n",
      "id=31\n",
      "[0.9976877 0.       ]\n",
      "[1. 0.]\n",
      "\n",
      "id=32\n",
      "[0.99364924 0.        ]\n",
      "[1. 0.]\n",
      "\n",
      "id=33\n",
      "[1.0222198 0.       ]\n",
      "[1. 0.]\n",
      "\n",
      "id=34\n",
      "[1.0305773 0.       ]\n",
      "[1. 0.]\n",
      "\n",
      "id=35\n",
      "[1.0384431 0.       ]\n",
      "[1. 0.]\n",
      "\n",
      "id=36\n",
      "[1.0254908 0.       ]\n",
      "[1. 0.]\n",
      "\n",
      "id=37\n",
      "[0.9875975 0.       ]\n",
      "[1. 0.]\n",
      "\n",
      "id=38\n",
      "[0.95838153 0.        ]\n",
      "[1. 0.]\n",
      "\n",
      "id=39\n",
      "[1.0269661 0.       ]\n",
      "[1. 0.]\n",
      "\n",
      "id=40\n",
      "[0.99483013 0.        ]\n",
      "[1. 0.]\n",
      "\n",
      "id=41\n",
      "[1.0297205 0.       ]\n",
      "[1. 0.]\n",
      "\n",
      "id=42\n",
      "[0.95944124 0.        ]\n",
      "[1. 0.]\n",
      "\n",
      "id=43\n",
      "[0.9997593 0.       ]\n",
      "[1. 0.]\n",
      "\n",
      "id=44\n",
      "[0.99719954 0.        ]\n",
      "[1. 0.]\n",
      "\n",
      "id=45\n",
      "[0.9923777 0.       ]\n",
      "[1. 0.]\n",
      "\n",
      "id=46\n",
      "[0.99826586 0.        ]\n",
      "[1. 0.]\n",
      "\n",
      "id=47\n",
      "[0.9968504 0.       ]\n",
      "[1. 0.]\n",
      "\n",
      "id=48\n",
      "[0.9384918 0.       ]\n",
      "[1. 0.]\n",
      "\n",
      "id=49\n",
      "[0.96115994 0.        ]\n",
      "[1. 0.]\n",
      "\n",
      "id=50\n",
      "[0.9948537 0.       ]\n",
      "[1. 0.]\n",
      "\n",
      "id=51\n",
      "[1.0372268 0.       ]\n",
      "[1. 0.]\n",
      "\n",
      "id=52\n",
      "[1.0074897 0.       ]\n",
      "[1. 0.]\n",
      "\n",
      "id=53\n",
      "[0.9773302 0.       ]\n",
      "[1. 0.]\n",
      "\n",
      "id=54\n",
      "[1.0318471 0.       ]\n",
      "[1. 0.]\n",
      "\n",
      "id=55\n",
      "[0.9662801 0.       ]\n",
      "[1. 0.]\n",
      "\n",
      "id=56\n",
      "[0.98263437 0.        ]\n",
      "[1. 0.]\n",
      "\n",
      "id=57\n",
      "[0.96816677 0.        ]\n",
      "[1. 0.]\n",
      "\n",
      "id=58\n",
      "[1.0603565 0.       ]\n",
      "[1. 0.]\n",
      "\n",
      "id=59\n",
      "[0.9758722 0.       ]\n",
      "[1. 0.]\n",
      "\n",
      "id=60\n",
      "[1.00211 0.     ]\n",
      "[1. 0.]\n",
      "\n",
      "id=61\n",
      "[0.90627253 0.        ]\n",
      "[1. 0.]\n",
      "\n",
      "id=62\n",
      "[1.0188669 0.       ]\n",
      "[1. 0.]\n",
      "\n",
      "id=63\n",
      "[0.9835669 0.       ]\n",
      "[1. 0.]\n",
      "\n",
      "id=64\n",
      "[1.01474 0.     ]\n",
      "[1. 0.]\n",
      "\n",
      "id=65\n",
      "[0.97983146 0.        ]\n",
      "[1. 0.]\n",
      "\n",
      "id=66\n",
      "[0.9259971 0.       ]\n",
      "[1. 0.]\n",
      "\n",
      "id=67\n",
      "[1.0012896 0.       ]\n",
      "[1. 0.]\n",
      "\n",
      "id=68\n",
      "[0.97581875 0.        ]\n",
      "[1. 0.]\n",
      "\n",
      "id=69\n",
      "[0.97100735 0.        ]\n",
      "[1. 0.]\n",
      "\n",
      "id=70\n",
      "[0.9484295 0.       ]\n",
      "[1. 0.]\n",
      "\n",
      "id=71\n",
      "[1.0056844 0.       ]\n",
      "[1. 0.]\n",
      "\n",
      "id=72\n",
      "[0.9901234 0.       ]\n",
      "[1. 0.]\n",
      "\n",
      "id=73\n",
      "[0.95458925 0.        ]\n",
      "[1. 0.]\n",
      "\n",
      "id=74\n",
      "[1.0109985 0.       ]\n",
      "[1. 0.]\n",
      "\n",
      "id=75\n",
      "[0.98438215 0.        ]\n",
      "[1. 0.]\n",
      "\n",
      "id=76\n",
      "[1.0255123 0.       ]\n",
      "[1. 0.]\n",
      "\n",
      "id=77\n",
      "[1.0490303 0.       ]\n",
      "[1. 0.]\n",
      "\n",
      "id=78\n",
      "[0.9313967 0.       ]\n",
      "[1. 0.]\n",
      "\n",
      "id=79\n",
      "[0.98069465 0.        ]\n",
      "[1. 0.]\n",
      "\n",
      "id=80\n",
      "[1.018671 0.      ]\n",
      "[1. 0.]\n",
      "\n",
      "id=81\n",
      "[1.0017794 0.       ]\n",
      "[1. 0.]\n",
      "\n",
      "id=82\n",
      "[0.93908083 0.        ]\n",
      "[1. 0.]\n",
      "\n",
      "id=83\n",
      "[0.966662 0.      ]\n",
      "[1. 0.]\n",
      "\n",
      "id=84\n",
      "[0.9904714 0.       ]\n",
      "[1. 0.]\n",
      "\n",
      "id=85\n",
      "[1.0071465 0.       ]\n",
      "[1. 0.]\n",
      "\n",
      "id=86\n",
      "[0.9299129 0.       ]\n",
      "[1. 0.]\n",
      "\n",
      "id=87\n",
      "[0.9918886 0.       ]\n",
      "[1. 0.]\n",
      "\n",
      "id=88\n",
      "[1.0439677 0.       ]\n",
      "[1. 0.]\n",
      "\n",
      "id=89\n",
      "[0.987057 0.      ]\n",
      "[1. 0.]\n",
      "\n"
     ]
    }
   ],
   "source": [
    "for i in range(test_dataset_size):\n",
    "    print(\"id={}\".format(i))\n",
    "    print(prediction_list[i])\n",
    "    print(ratio_list[i])\n",
    "    print()"
   ]
  },
  {
   "cell_type": "markdown",
   "metadata": {},
   "source": [
    "# Evaluation metrics"
   ]
  },
  {
   "cell_type": "code",
   "execution_count": 22,
   "metadata": {},
   "outputs": [],
   "source": [
    "pred = np.array(prediction_list)\n",
    "truth = np.array(ratio_list)"
   ]
  },
  {
   "cell_type": "markdown",
   "metadata": {},
   "source": [
    "### Compute the MSE"
   ]
  },
  {
   "cell_type": "code",
   "execution_count": 23,
   "metadata": {},
   "outputs": [
    {
     "name": "stdout",
     "output_type": "stream",
     "text": [
      "0.0005446613\n"
     ]
    }
   ],
   "source": [
    "mse = np.mean((pred - truth)**2)\n",
    "print(mse)"
   ]
  },
  {
   "cell_type": "markdown",
   "metadata": {},
   "source": [
    "### Compute the RMSE"
   ]
  },
  {
   "cell_type": "code",
   "execution_count": 24,
   "metadata": {},
   "outputs": [
    {
     "name": "stdout",
     "output_type": "stream",
     "text": [
      "0.02333798\n"
     ]
    }
   ],
   "source": [
    "rmse = np.sqrt(np.mean((pred - truth)**2))\n",
    "print(rmse)"
   ]
  },
  {
   "cell_type": "markdown",
   "metadata": {},
   "source": [
    "### Compute the MAE"
   ]
  },
  {
   "cell_type": "code",
   "execution_count": 25,
   "metadata": {},
   "outputs": [
    {
     "name": "stdout",
     "output_type": "stream",
     "text": [
      "0.012968951\n"
     ]
    }
   ],
   "source": [
    "mae = np.mean(np.abs(pred - truth))\n",
    "print(mae)"
   ]
  },
  {
   "cell_type": "code",
   "execution_count": null,
   "metadata": {},
   "outputs": [],
   "source": [
    " "
   ]
  },
  {
   "cell_type": "code",
   "execution_count": null,
   "metadata": {},
   "outputs": [],
   "source": []
  },
  {
   "cell_type": "code",
   "execution_count": null,
   "metadata": {},
   "outputs": [],
   "source": []
  },
  {
   "cell_type": "code",
   "execution_count": null,
   "metadata": {},
   "outputs": [],
   "source": []
  },
  {
   "cell_type": "code",
   "execution_count": null,
   "metadata": {},
   "outputs": [],
   "source": []
  }
 ],
 "metadata": {
  "kernelspec": {
   "display_name": "Python 3",
   "language": "python",
   "name": "python3"
  },
  "language_info": {
   "codemirror_mode": {
    "name": "ipython",
    "version": 3
   },
   "file_extension": ".py",
   "mimetype": "text/x-python",
   "name": "python",
   "nbconvert_exporter": "python",
   "pygments_lexer": "ipython3",
   "version": "3.7.9"
  }
 },
 "nbformat": 4,
 "nbformat_minor": 4
}
